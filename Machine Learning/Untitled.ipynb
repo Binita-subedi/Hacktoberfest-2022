{
 "cells": [
  {
   "cell_type": "code",
   "execution_count": 1,
   "id": "e2ab34ac",
   "metadata": {},
   "outputs": [],
   "source": [
    "import pandas as pd\n",
    "import numpy as np\n",
    "import matplotlib.pyplot as plt\n",
    "import sklearn"
   ]
  },
  {
   "cell_type": "code",
   "execution_count": 2,
   "id": "dc1f9207",
   "metadata": {},
   "outputs": [
    {
     "name": "stdout",
     "output_type": "stream",
     "text": [
      " Volume in drive D has no label.\n",
      " Volume Serial Number is 2E70-3638\n",
      "\n",
      " Directory of D:\\my stuff\\Study\\Projects\\machine learning\\sample_project_1\n",
      "\n",
      "07/04/2021  11:02 PM    <DIR>          .\n",
      "07/04/2021  11:02 PM    <DIR>          ..\n",
      "07/04/2021  10:58 PM    <DIR>          .ipynb_checkpoints\n",
      "07/04/2021  11:02 PM               843 Untitled.ipynb\n",
      "               1 File(s)            843 bytes\n",
      "               3 Dir(s)  138,597,220,352 bytes free\n"
     ]
    }
   ],
   "source": [
    "ls"
   ]
  },
  {
   "cell_type": "code",
   "execution_count": null,
   "id": "0f2cb2cf",
   "metadata": {},
   "outputs": [],
   "source": []
  }
 ],
 "metadata": {
  "kernelspec": {
   "display_name": "Python 3 (ipykernel)",
   "language": "python",
   "name": "python3"
  },
  "language_info": {
   "codemirror_mode": {
    "name": "ipython",
    "version": 3
   },
   "file_extension": ".py",
   "mimetype": "text/x-python",
   "name": "python",
   "nbconvert_exporter": "python",
   "pygments_lexer": "ipython3",
   "version": "3.8.1"
  }
 },
 "nbformat": 4,
 "nbformat_minor": 5
}
